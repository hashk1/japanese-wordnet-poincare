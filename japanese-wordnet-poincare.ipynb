{
 "cells": [
  {
   "cell_type": "markdown",
   "metadata": {},
   "source": [
    "# Poincaré Embedding with Japanese Wordnet "
   ]
  },
  {
   "cell_type": "markdown",
   "metadata": {},
   "source": [
    "### Download Japanese Wordnet"
   ]
  },
  {
   "cell_type": "code",
   "execution_count": null,
   "metadata": {},
   "outputs": [],
   "source": [
    "! wget -c http://compling.hss.ntu.edu.sg/wnja/data/1.1/wnjpn.db.gz\n",
    "! gunzip -fk wnjpn.db.gz"
   ]
  },
  {
   "cell_type": "markdown",
   "metadata": {},
   "source": [
    "### Download library"
   ]
  },
  {
   "cell_type": "code",
   "execution_count": null,
   "metadata": {},
   "outputs": [],
   "source": [
    "! wget -c https://gist.githubusercontent.com/sambaiz/a0508c9ed379b3218e30/raw/525b1a59acef1a50c04e71ecf1dfe17d84a4f1f6/wn.py"
   ]
  },
  {
   "cell_type": "markdown",
   "metadata": {},
   "source": [
    "### import libraries"
   ]
  },
  {
   "cell_type": "code",
   "execution_count": null,
   "metadata": {},
   "outputs": [],
   "source": [
    "from wn import *\n",
    "from gensim.models.poincare import PoincareModel\n",
    "import random\n",
    "import gensim.viz.poincare\n",
    "import plotly"
   ]
  },
  {
   "cell_type": "markdown",
   "metadata": {},
   "source": [
    "### Japanese Wordnet connection"
   ]
  },
  {
   "cell_type": "code",
   "execution_count": null,
   "metadata": {},
   "outputs": [],
   "source": [
    "def getWords2(wordid):\n",
    "    cur = conn.execute(\"select * from word where wordid=?\", (wordid,))\n",
    "    return [Word(*row) for row in cur]"
   ]
  },
  {
   "cell_type": "code",
   "execution_count": null,
   "metadata": {},
   "outputs": [],
   "source": [
    "def getSenses2(synset):\n",
    "    cur = conn.execute(\"select * from sense where synset=?\", (synset,))\n",
    "    return [Sense(*row) for row in cur]"
   ]
  },
  {
   "cell_type": "code",
   "execution_count": null,
   "metadata": {},
   "outputs": [],
   "source": [
    "def getAllWords():\n",
    "    cur = conn.execute(\"select * from word\")\n",
    "    return [Word(*row) for row in cur]"
   ]
  },
  {
   "cell_type": "code",
   "execution_count": null,
   "metadata": {},
   "outputs": [],
   "source": [
    "def abstract_word(lemma):\n",
    "    result = []\n",
    "    for word in getWords(lemma):\n",
    "        for sense in getSenses(word):\n",
    "            if sense.src != 'hand': \n",
    "                continue\n",
    "            for synlink in getSynLinks(sense, 'hype'):\n",
    "                abst_senses = getSenses2(synlink.synset2)\n",
    "                for abst_sense in abst_senses:\n",
    "                    if abst_sense and word.wordid != abst_sense.wordid and abst_sense.lang == \"jpn\":\n",
    "                        w2 = getWords2(abst_sense.wordid)[0]\n",
    "                        if w2.pos == \"n\":\n",
    "                            result.append(w2.lemma)\n",
    "                    \n",
    "    return result"
   ]
  },
  {
   "cell_type": "markdown",
   "metadata": {},
   "source": [
    "### Connection test"
   ]
  },
  {
   "cell_type": "code",
   "execution_count": null,
   "metadata": {},
   "outputs": [],
   "source": [
    "# number of words\n",
    "len(getAllWords())"
   ]
  },
  {
   "cell_type": "code",
   "execution_count": null,
   "metadata": {},
   "outputs": [],
   "source": [
    "getWords(\"幸せ\")"
   ]
  },
  {
   "cell_type": "code",
   "execution_count": null,
   "metadata": {},
   "outputs": [],
   "source": [
    "getWords(\"ヨーグルト\")"
   ]
  },
  {
   "cell_type": "code",
   "execution_count": null,
   "metadata": {},
   "outputs": [],
   "source": [
    "abstract_word(\"ヨーグルト\")"
   ]
  },
  {
   "cell_type": "code",
   "execution_count": null,
   "metadata": {},
   "outputs": [],
   "source": [
    "abstract_word(\"本棚\")"
   ]
  },
  {
   "cell_type": "markdown",
   "metadata": {},
   "source": [
    "### Generate word paris"
   ]
  },
  {
   "cell_type": "code",
   "execution_count": null,
   "metadata": {},
   "outputs": [],
   "source": [
    "wordlist = [w.lemma for w in getAllWords() if w.pos == \"n\" and w.lang == \"jpn\"]\n",
    "len(wordlist)"
   ]
  },
  {
   "cell_type": "code",
   "execution_count": null,
   "metadata": {},
   "outputs": [],
   "source": [
    "pairs = [(w, aw) for w in wordlist for aw in abstract_word(lemma = w)]\n",
    "len(pairs)"
   ]
  },
  {
   "cell_type": "code",
   "execution_count": null,
   "metadata": {},
   "outputs": [],
   "source": [
    "# show pairs\n",
    "pairs[0:20]"
   ]
  },
  {
   "cell_type": "markdown",
   "metadata": {},
   "source": [
    "### Train model "
   ]
  },
  {
   "cell_type": "code",
   "execution_count": null,
   "metadata": {},
   "outputs": [],
   "source": [
    "# parameters\n",
    "dimension = 100\n",
    "negative = 10 # negative samples\n",
    "seed = 25252 # nico nico ni-\n",
    "epochs =1000"
   ]
  },
  {
   "cell_type": "code",
   "execution_count": null,
   "metadata": {},
   "outputs": [],
   "source": [
    "model = PoincareModel(pairs, size=dimension, negative=negative, seed=seed)"
   ]
  },
  {
   "cell_type": "code",
   "execution_count": null,
   "metadata": {},
   "outputs": [],
   "source": [
    "%%time\n",
    "model.train(epochs=epochs)"
   ]
  },
  {
   "cell_type": "code",
   "execution_count": null,
   "metadata": {},
   "outputs": [],
   "source": [
    "# save model\n",
    "model_name = \"poincare-dim{}-negative{}-epoch{}.model\".format(dimension, negative, epochs)\n",
    "model.save(model_name)"
   ]
  },
  {
   "cell_type": "code",
   "execution_count": null,
   "metadata": {},
   "outputs": [],
   "source": [
    "# load model\n",
    "# model = model.load(model_name)"
   ]
  },
  {
   "cell_type": "markdown",
   "metadata": {},
   "source": [
    "### Test the model"
   ]
  },
  {
   "cell_type": "code",
   "execution_count": null,
   "metadata": {},
   "outputs": [],
   "source": [
    "model.kv.most_similar(\"牛乳\")"
   ]
  },
  {
   "cell_type": "code",
   "execution_count": null,
   "metadata": {},
   "outputs": [],
   "source": [
    "model.kv.distance(\"ヨーグルト\", \"牛乳\")"
   ]
  },
  {
   "cell_type": "code",
   "execution_count": null,
   "metadata": {},
   "outputs": [],
   "source": [
    "model.kv.difference_in_hierarchy(\"生物\", \"動物\")"
   ]
  },
  {
   "cell_type": "markdown",
   "metadata": {},
   "source": [
    "### Train 2D model"
   ]
  },
  {
   "cell_type": "code",
   "execution_count": null,
   "metadata": {},
   "outputs": [],
   "source": [
    "# parameters\n",
    "negative = 10 # negative samples\n",
    "seed = 25252 # nico nico ni-\n",
    "epochs =1000"
   ]
  },
  {
   "cell_type": "code",
   "execution_count": null,
   "metadata": {},
   "outputs": [],
   "source": [
    "model_2d = PoincareModel(pairs, size=2, negative=negative, seed=seed)"
   ]
  },
  {
   "cell_type": "code",
   "execution_count": null,
   "metadata": {},
   "outputs": [],
   "source": [
    "%%time\n",
    "model_2d.train(epochs=epochs)"
   ]
  },
  {
   "cell_type": "code",
   "execution_count": null,
   "metadata": {},
   "outputs": [],
   "source": [
    "# save model\n",
    "model_2d_name = \"poincare-dim{}-negative{}-epoch{}.model\".format(2, negative, epochs)\n",
    "model_2d.save(model_2d_name)"
   ]
  },
  {
   "cell_type": "code",
   "execution_count": null,
   "metadata": {},
   "outputs": [],
   "source": [
    "# load model\n",
    "# model_2d = model.load(model_2d_name)"
   ]
  },
  {
   "cell_type": "markdown",
   "metadata": {},
   "source": [
    "### Visualize the model"
   ]
  },
  {
   "cell_type": "code",
   "execution_count": null,
   "metadata": {},
   "outputs": [],
   "source": [
    "# parameters\n",
    "samples = 200\n",
    "seed = 25252 # nico nico ni-"
   ]
  },
  {
   "cell_type": "code",
   "execution_count": null,
   "metadata": {},
   "outputs": [],
   "source": [
    "random.seed(seed)\n",
    "sample_words = random.choices(list(model.kv.vocab.keys()), k=samples)\n",
    "sample_words = list(set(sample_words))"
   ]
  },
  {
   "cell_type": "code",
   "execution_count": null,
   "metadata": {},
   "outputs": [],
   "source": [
    "sample_pairs = [(w1, w2) for w1, w2 in pairs if w1 in sample_words or w2 in sample_words]"
   ]
  },
  {
   "cell_type": "code",
   "execution_count": null,
   "metadata": {},
   "outputs": [],
   "source": [
    "plotly.offline.init_notebook_mode(connected=False)\n",
    "prefecutre_map = gensim.viz.poincare.poincare_2d_visualization(\n",
    "                                                                model=model_2d,\n",
    "                                                                tree=sample_pairs,\n",
    "                                                                num_nodes=10, \n",
    "                                                                figure_title=\"Japanese Wordnet\",\n",
    "                                                                show_node_labels=sample_words)\n",
    "plotly.offline.iplot(prefecutre_map)"
   ]
  },
  {
   "cell_type": "code",
   "execution_count": null,
   "metadata": {},
   "outputs": [],
   "source": []
  }
 ],
 "metadata": {
  "kernelspec": {
   "display_name": "Python 3",
   "language": "python",
   "name": "python3"
  },
  "language_info": {
   "codemirror_mode": {
    "name": "ipython",
    "version": 3
   },
   "file_extension": ".py",
   "mimetype": "text/x-python",
   "name": "python",
   "nbconvert_exporter": "python",
   "pygments_lexer": "ipython3",
   "version": "3.8.3"
  }
 },
 "nbformat": 4,
 "nbformat_minor": 2
}
